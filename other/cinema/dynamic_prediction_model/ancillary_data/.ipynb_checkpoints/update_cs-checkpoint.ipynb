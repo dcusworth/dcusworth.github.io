{
 "cells": [
  {
   "cell_type": "code",
   "execution_count": 68,
   "metadata": {
    "collapsed": true
   },
   "outputs": [],
   "source": [
    "%matplotlib inline\n",
    "import pandas as pd\n",
    "import numpy as np\n",
    "import itertools\n",
    "import json\n",
    "import datetime"
   ]
  },
  {
   "cell_type": "code",
   "execution_count": 77,
   "metadata": {
    "collapsed": false
   },
   "outputs": [],
   "source": [
    "#Open CinemaScore dataframe\n",
    "cinemascore = pd.read_csv('./ancillary_data/cinemascore_data.csv', index_col=0)\n",
    "\n",
    "#Open release dates\n",
    "with open('./ancillary_data/better_release_dates.json', 'r') as fp:\n",
    "    release_dict = json.load(fp)\n",
    "    \n",
    "good_primary_genres = ['Sci-Fi', 'Anthology', 'Sports', 'Crime',\\\n",
    "                               'Romance', 'Supernatural', 'Comedy', 'War',\\\n",
    "                               'Teen', 'Biopic', 'Horror', 'Sequel', 'Western',\\\n",
    "                               'Thriller', 'Adventure', 'Mystery', 'Foreign', \\\n",
    "                               'Drama','Historical', 'Remake', 'Action', 'Animated',\\\n",
    "                               'Documentary','Musical', 'Spy', 'Family', \\\n",
    "                               'Romantic Comedy', 'Period', 'Fantasy','Adaptation', 'Children']\n",
    "\n",
    "good_cscores = [\"A+\",\"A\",\"A-\",\"B+\",\"B\",\"B-\",\"C+\",\"C\",\"C-\",\"D+\",\"D\",\"D-\",\"F\"]\n",
    "\n",
    "#Open Rotten Tomatoes training set\n",
    "good_rot = rot_to_df('rotdat')\n",
    "rot_titles = list(set(good_rot.title))"
   ]
  },
  {
   "cell_type": "code",
   "execution_count": 78,
   "metadata": {
    "collapsed": false
   },
   "outputs": [],
   "source": [
    "#Read user-inputted CinemaScores/Release Date\n",
    "user_cs = pd.read_csv('films_with_no_cinemascore.csv', index_col=0)\n",
    "\n",
    "#Check for rows that have filled in primary genre & cinemascore\n",
    "updated_films = user_cs.dropna(axis=0)"
   ]
  },
  {
   "cell_type": "code",
   "execution_count": 79,
   "metadata": {
    "collapsed": false
   },
   "outputs": [
    {
     "name": "stdout",
     "output_type": "stream",
     "text": [
      "The Hunger Games: Mockingjay - Part 1 not added\n",
      "Check following fields:\n",
      "title\n",
      "\n",
      "Tomorrowland not added\n",
      "Check following fields:\n",
      "title\n",
      "\n"
     ]
    }
   ],
   "source": [
    "for irow in updated_films.iterrows():\n",
    "    idict = dict(zip(irow[1].index, irow[1].tolist()))\n",
    "    \n",
    "    title_in = idict['title'] not in rot_titles\n",
    "    proper_genre = idict['primary_genre'] not in good_primary_genres\n",
    "    proper_cs = idict['cinemascore'] not in good_cscores\n",
    "\n",
    "    try:\n",
    "        idate = datetime.datetime.strptime(idict['release'], '%Y-%m-%d')\n",
    "        proper_date = False\n",
    "    except:\n",
    "        proper_date = True\n",
    "        \n",
    "    log_array = [title_in, proper_genre, proper_cs, proper_date]\n",
    "    name_array = ['title', 'primary_genre', 'cinemascore', 'release']\n",
    "    if np.sum(log_array) > 0:\n",
    "        print idict['title'], 'not added'\n",
    "        print 'Check following fields:'\n",
    "        print name_array[np.where(log_array)[0][0]]\n",
    "        print ''\n",
    "        \n",
    "    else:\n",
    "        \n",
    "        #Add to cinemascore dataframe\n",
    "        new_array = [idict['title'],idict['primary_genre'], None, idict['cinemascore'], None ]\n",
    "        new_cs = dict(zip(cinemascore.columns, new_array))\n",
    "        new_cinemascore = cinemascore.append(new_cs, ignore_index=True)\n",
    "        \n",
    "        #Add date to release dataframe\n",
    "        new_dict = {}\n",
    "        new_dict[new_title] = datetime.datetime.strftime(idate, '%b %d, %Y')\n",
    "        release_dict.update(new_dict)\n",
    "        \n",
    "        \n",
    "        #Save to disk\n",
    "        new_cinemascore.to_csv('./ancillary_data/cinemascore_data.csv')\n",
    "\n",
    "        with open('./ancillary_data/better_release_dates.json', 'w') as fp:\n",
    "            json.dump(release_dict, fp)\n",
    "            \n",
    "            \n",
    "        print idict['title'], 'added to training set'\n",
    "        print ''\n",
    "\n",
    "\n",
    "        \n",
    "    "
   ]
  },
  {
   "cell_type": "code",
   "execution_count": null,
   "metadata": {
    "collapsed": true
   },
   "outputs": [],
   "source": []
  }
 ],
 "metadata": {
  "kernelspec": {
   "display_name": "Python 2",
   "language": "python",
   "name": "python2"
  },
  "language_info": {
   "codemirror_mode": {
    "name": "ipython",
    "version": 2
   },
   "file_extension": ".py",
   "mimetype": "text/x-python",
   "name": "python",
   "nbconvert_exporter": "python",
   "pygments_lexer": "ipython2",
   "version": "2.7.10"
  }
 },
 "nbformat": 4,
 "nbformat_minor": 0
}
