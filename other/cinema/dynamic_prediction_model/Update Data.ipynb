{
 "cells": [
  {
   "cell_type": "markdown",
   "metadata": {},
   "source": [
    "# Data Scraping/Updating Flow Interface\n",
    "\n",
    "## To be performed prior to running dynamic prediction model\n",
    "\n"
   ]
  },
  {
   "cell_type": "code",
   "execution_count": null,
   "metadata": {
    "collapsed": true
   },
   "outputs": [],
   "source": [
    "%matplotlib inline\n",
    "%load_ext autoreload\n",
    "%autoreload 2\n",
    "from IPython.display import Image\n",
    "from class_func import *\n",
    "import os, sys\n",
    "import pickle"
   ]
  },
  {
   "cell_type": "markdown",
   "metadata": {},
   "source": [
    "### STEP 1: Run Rotten Tomatoes Scraper\n",
    "\n",
    "The Rotten Tomatoes scraping function first queries all active critics on Rotten Tomatoes. Then it scrapes all reviews for each critics. The data is saved in a directory called 'rotdat,' with files segregated by the first letter of the critic's names. Each file is a dictionary keyed by critic name.\n",
    "\n",
    "As Rotten Tomatoes sporadically changes the backend HTML, the user will need to update the scraping script as needed.\n",
    "\n",
    "** It takes a long time to run script **\n",
    "\n",
    "Suggested to run overnight.\n",
    "\n",
    "** It is HIGHLY RECOMMENDED that you backup any previous scrapes before running **"
   ]
  },
  {
   "cell_type": "code",
   "execution_count": null,
   "metadata": {
    "collapsed": false
   },
   "outputs": [],
   "source": [
    "################ ROTTEN TOMATOES SCRAPER #######################\n",
    "\n",
    "#Requires no inputs - just run this cell\n",
    "\n",
    "%run ./rottentomatoes_scraper.py\n"
   ]
  },
  {
   "cell_type": "markdown",
   "metadata": {},
   "source": [
    "### STEP 2: Compare Rotten Tomatoes Scrape to existing CinemaScores\n",
    "\n",
    "The Rotten Tomatoes scrape contains no data on CinemaScore and release date. These need to be inputted manually by the user. However, to compare which films need to have CinemaScores added, the script 'expand_dataset.py' compares the Rotten Tomatoes scrape and CinemaScore data, and outputs the non-overlapping films to file. The output file 'films_with_no_cinemascore.csv' is sorted by films with the greatest number of reviews. Thus if you work down the list, you are adding films with the most critic data."
   ]
  },
  {
   "cell_type": "code",
   "execution_count": 4,
   "metadata": {
    "collapsed": true
   },
   "outputs": [],
   "source": [
    "################ SCRAPE VS. CINEMASCORE COMPARISON #######################\n",
    "\n",
    "#Requires no inputs - just run this cell\n",
    "\n",
    "%run ./expand_dataset.py\n"
   ]
  },
  {
   "cell_type": "markdown",
   "metadata": {},
   "source": [
    "### STEP 3: Manually update CinemaScores\n",
    "\n",
    "Here, the user needs to open the file 'films_with_no_cinemascore.csv' located in the 'ancillary_data' directory and fill in the following fields:\n",
    "\n",
    "** Primary Genre **\n",
    "\n",
    "Must exactly match one of the following genres:\n",
    "\n",
    "'Sci-Fi', 'Anthology', 'Sports', 'Crime', 'Romance', 'Supernatural', 'Comedy', 'War', 'Teen', 'Biopic', 'Horror', 'Sequel', 'Western', 'Thriller', 'Adventure', 'Mystery', 'Foreign', 'Drama', 'Historical', 'Remake', 'Action', 'Animated', 'Documentary', 'Musical', 'Spy', 'Family', 'Romantic Comedy', 'Period', 'Fantasy', 'Adaptation', 'Children'\n",
    "\n",
    "** CinemaScore **\n",
    "\n",
    "Must be on the A+ to F scale.\n",
    "\n",
    "** Release Date **\n",
    "\n",
    "Must be formatted as \"YYYY-mm-dd.\""
   ]
  },
  {
   "cell_type": "markdown",
   "metadata": {},
   "source": [
    "### STEP 4: Merge user inputted CinemaScores with existing data\n",
    "\n",
    "Once the user has inputted filled in the worksheet 'films_with_no_cinemascore.csv,' they need to add it to the existing CinemaScores/release date databases. Note that you do not need to completely fill out the 'films_with_no_cinemascore.csv' worksheet in order to run the following script."
   ]
  },
  {
   "cell_type": "code",
   "execution_count": 5,
   "metadata": {
    "collapsed": true
   },
   "outputs": [],
   "source": [
    "################ MERGE USER-INPUTS WITH CINEMASCORE/DATE dataframes #######################\n",
    "\n",
    "#Requires no inputs - just run this cell\n",
    "\n",
    "%run ./merge_user_cinemascores.py\n"
   ]
  },
  {
   "cell_type": "markdown",
   "metadata": {},
   "source": [
    "### Now you are ready to run the dynamic prediction model. Consult 'Model_Driver.ipynb'"
   ]
  }
 ],
 "metadata": {
  "kernelspec": {
   "display_name": "Python 2",
   "language": "python",
   "name": "python2"
  },
  "language_info": {
   "codemirror_mode": {
    "name": "ipython",
    "version": 2
   },
   "file_extension": ".py",
   "mimetype": "text/x-python",
   "name": "python",
   "nbconvert_exporter": "python",
   "pygments_lexer": "ipython2",
   "version": "2.7.10"
  }
 },
 "nbformat": 4,
 "nbformat_minor": 0
}
