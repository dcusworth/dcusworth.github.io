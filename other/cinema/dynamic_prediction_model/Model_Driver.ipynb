{
 "cells": [
  {
   "cell_type": "markdown",
   "metadata": {},
   "source": [
    "# CinemaScore Prediction Model\n",
    "## jupyter interface\n",
    "\n",
    "This model searches the database of Rotten Tomatoes reviews\n",
    "and iteratively fits a unique XGBoost model for each \n",
    "combination of critics supplied by the user, assuming at \n",
    "least 50 films to train on. The model then outputs the \n",
    "distribution of all CinemaScore predictions.\n",
    "\n",
    "Developed by Daniel Cusworth (dcusworth@legendary.com; dcusworth@fas.harvard.edu)\n"
   ]
  },
  {
   "cell_type": "code",
   "execution_count": 1,
   "metadata": {
    "collapsed": false
   },
   "outputs": [],
   "source": [
    "%matplotlib inline\n",
    "%load_ext autoreload\n",
    "%autoreload 2\n",
    "from IPython.display import Image\n",
    "from class_func import *\n",
    "import os, sys\n",
    "import pickle"
   ]
  },
  {
   "cell_type": "markdown",
   "metadata": {},
   "source": [
    "## Step 1: Scrape reviews of film you want to predict\n",
    "\n",
    "### Input below the url slug of the film to scrape.\n",
    "Must be of form: https://www.rottentomatoes.com/m/FILM_SLUG_HERE"
   ]
  },
  {
   "cell_type": "code",
   "execution_count": 2,
   "metadata": {
    "collapsed": false
   },
   "outputs": [],
   "source": [
    "################ SCRAPE ROTTENTOMATOES REVIEWS #######################\n",
    "\n",
    "#INPUT FILM URL BELOW:\n",
    "\n",
    "film_slug = 'https://www.rottentomatoes.com/m/wonder_woman_2017'\n",
    "\n",
    "\n",
    "######################################################################\n",
    "#The scraper will now be run - DON'T MODIFY BELOW\n",
    "\n",
    "run_command = './user_input/film_review_scraper.py -u ' + film_slug\n",
    "%run $run_command\n",
    "mv_file = os.system(\"mv review_input.csv ./user_input/review_input.csv\")"
   ]
  },
  {
   "cell_type": "markdown",
   "metadata": {},
   "source": [
    "### Inspect webscrape to see if done properly\n",
    "\n",
    "If there are any issues, manually clean up the file 'review_input.csv' located in the director 'user_input'"
   ]
  },
  {
   "cell_type": "code",
   "execution_count": 3,
   "metadata": {
    "collapsed": false
   },
   "outputs": [
    {
     "name": "stdout",
     "output_type": "stream",
     "text": [
      "critic,val\n",
      "Luke Buckmaster,0.0\n",
      "Prairie Miller,1.0\n",
      "Allison Shoemaker,0.75\n",
      "Susan Granger,0.9\n",
      "Jenna Busch,0.916666666667\n",
      "Rosie Fletcher,0.6\n",
      "Sheri Linden,1.0\n",
      "Uri Klein,1.0\n",
      "Mark Hughes,1.0\n",
      "Alonso Duralde,1.0\n",
      "Chris Hewitt (UK),0.8\n",
      "Molly Freeman,0.8\n",
      "Mara Reinstein,1.0\n",
      "William Bibbiani,1.0\n",
      "Joshua Yehl,0.79\n",
      "Angie Errigo,0.8\n",
      "Stefan Pape,0.8\n",
      "Scott Mendelson,0.7\n",
      "Chris Stuckmann,0.833333333333\n",
      "Peter Travers,0.625\n",
      "Fred Topel,1.0\n",
      "Dave Schilling,1.0\n",
      "Rodrigo Perez,0.5\n",
      "Chris Hunneysett,0.8\n",
      "Anthony O'Connor,0.8\n",
      "Matthew Turner,0.8\n",
      "Kristy Puchko,1.0\n",
      "Edward Douglas,0.85\n",
      "David Jenkins,0.6\n",
      "Stephen Whitty,0.875\n",
      "Lindsey Bahr,1.0\n",
      "Angie Han,1.0\n",
      "Wenlei Ma,0.7\n",
      "Julian Roman,0.7\n",
      "Alison Willmore,1.0\n",
      "Matthew Pejkovic,0.8\n",
      "Simon Miraudo,0.8\n",
      "Katie Walsh,0.875\n",
      "Garth Franklin,1.0\n",
      "Emma Simmonds,0.8\n",
      "Mark Daniell,0.8\n",
      "Tom Gliatto,1.0\n",
      "Ben Sin,0.7\n",
      "Matt Singer,0.7\n",
      "Harry Guerin,0.7\n",
      "Kate Erbland,0.833333333333\n",
      "Donald Clarke,0.6\n",
      "Robbie Collin,0.8\n",
      "Matt Prigge,0.6\n",
      "Michael Phillips,0.875\n",
      "John Hazelton,1.0\n",
      "Roger Moore,0.625\n",
      "Travis Hopson,0.7\n",
      "Chris Nashawaty,0.833333333333\n",
      "Steve Rose,0.4\n",
      "Hannah Brown,1.0\n",
      "JimmyO,0.9\n",
      "Kevin Harley,0.8\n",
      "Matthew Toomey,0.833333333333\n",
      "Don Kaye,0.8\n",
      "Bill Goodykoontz,0.7\n",
      "Cath Clarke,0.8\n",
      "Abigail Chandler,0.6\n",
      "Scott Menzel,0.95\n",
      "Mike Ryan,0.8\n",
      "Geoffrey Macnab,0.8\n",
      "Rafer Guzman,0.875\n",
      "Alicia Lutes,0.7\n",
      "Alex Abad-Santos,0.7\n",
      "Jamie East,0.8\n",
      "Kelly Lawler,0.875\n",
      "Richard Roeper,0.875\n",
      "Andrew Barker,1.0\n",
      "Conner Schwerdtfeger,0.8\n",
      "Matt Donato,0.8\n",
      "Joanna Langfield,1.0\n",
      "\n"
     ]
    }
   ],
   "source": [
    "with open('user_input/review_input.csv', 'r') as txt:\n",
    "    print txt.read()"
   ]
  },
  {
   "cell_type": "markdown",
   "metadata": {},
   "source": [
    "## Step 2: Add associated metadata to model\n",
    "\n",
    "Input genre and month of release to the film you are predicting. \n",
    "\n",
    "There are two genre categories - short and long genre. You must select and copy exactly the genre that most closely matches the genre of the film you are predicting.\n",
    "\n",
    "**Short Genre**\n",
    "\n",
    "'prestige', 'family', 'horror', 'sequel', 'other', 'action', 'comedy', 'pulp'\n",
    "\n",
    "**Long Genre**\n",
    "\n",
    "'Sci-Fi', 'Anthology', 'Sports', 'Crime', 'Romance', 'Supernatural', 'Comedy', 'War', 'Teen', 'Biopic', 'Horror', 'Sequel', 'Western', 'Thriller', 'Adventure', 'Mystery', 'Foreign', 'Drama', 'Historical', 'Remake', 'Action', 'Animated', 'Documentary', 'Musical', 'Spy', 'Family', 'Romantic Comedy', 'Period', 'Fantasy', 'Adaptation', 'Children'\n",
    "\n"
   ]
  },
  {
   "cell_type": "code",
   "execution_count": 4,
   "metadata": {
    "collapsed": false
   },
   "outputs": [],
   "source": [
    "################ ADD METDATA #######################\n",
    "\n",
    "#ADD MONTH OF RELEASE BELOW\n",
    "\n",
    "month_of_release = 6\n",
    "\n",
    "#ADD SHORT GENRE\n",
    "\n",
    "short_genre = 'action'\n",
    "\n",
    "#ADD LONG GENRE\n",
    "\n",
    "long_genre = 'Adventure'\n",
    "\n",
    "\n",
    "#####################################################\n",
    "#Metadata will now be updated - DON'T MODIFY BELOW\n",
    "\n",
    "meta_array = np.asarray([long_genre, short_genre, month_of_release]).reshape(1,3)\n",
    "meta_df = pd.DataFrame(meta_array, columns=['ngenre','nshort_genre','month'])\n",
    "meta_df.to_csv('./user_input/metadata_input.csv', index=False)"
   ]
  },
  {
   "cell_type": "markdown",
   "metadata": {},
   "source": [
    "## Step 3: Run the model\n",
    "\n",
    "The model has 2 main running options\n",
    "\n",
    "** Option 1 (MAX_CRITIC): Maximum number of critics to use **\n",
    "\n",
    "If review_input.csv has more critics than MAX_CRITIC, then only the “top” N (N = MAX_CRITIC) critics are considered. Here, “top” is defined as critics with a large number of reviews who are correlated with CinemaScore. Default is 15\n",
    "\n",
    "** Option 2 (MIN_THRES): Minimum number of common films to fit a model **\n",
    "\n",
    "The dynamic prediction model fits a unique XGBoost model on each combination of unique critics supplied in 'review_input.csv.' This option determines how many common films must exist per combination in order for an individual model to be fit. Default is 50.\n"
   ]
  },
  {
   "cell_type": "code",
   "execution_count": 5,
   "metadata": {
    "collapsed": false
   },
   "outputs": [],
   "source": [
    "############## RUN OPTIONS #################\n",
    "\n",
    "#Option 1 (MAX_CRITIC): Maximum number of critics to use\n",
    "\n",
    "MAX_CRITIC = 10\n",
    "\n",
    "#Option 2 (MIN_THRES): Minimum number of common films to fit a model\n",
    "\n",
    "MIN_THRES = 50"
   ]
  },
  {
   "cell_type": "markdown",
   "metadata": {},
   "source": [
    "** Running the model **\n",
    "\n",
    "Once the options are selected, you can run the model. The model will first look at the 'review_input.csv' list that was provided and match those names with the names in the training set. If not all the user supplied critics are contained in the training set, the model will show the discrepancies before fitting the model. It will also output the closest string matches of the supplied critics to critics in the dataset. Thus if there is a simple spelling error, the user can manually modify 'review_input.csv' before running the model.\n",
    "\n",
    "For the case of mispellings, consult the file 'critics_in_dataset.csv' located in the 'ancillary_data' directory for the training set spellings/punctuation of critics. \n",
    "\n",
    "**You will be prompted to press ENTER once the model has looked over the inputted critics **"
   ]
  },
  {
   "cell_type": "code",
   "execution_count": 6,
   "metadata": {
    "collapsed": false
   },
   "outputs": [
    {
     "name": "stderr",
     "output_type": "stream",
     "text": [
      "//anaconda/lib/python2.7/site-packages/pandas/tools/merge.py:624: UnicodeWarning: Unicode equal comparison failed to convert both arguments to Unicode - interpreting them as being unequal\n",
      "  rlab = rizer.factorize(rk)\n",
      "//anaconda/lib/python2.7/site-packages/sklearn/cross_validation.py:44: DeprecationWarning: This module was deprecated in version 0.18 in favor of the model_selection module into which all the refactored classes and functions are moved. Also note that the interface of the new CV iterators are different from that of this module. This module will be removed in 0.20.\n",
      "  \"This module will be removed in 0.20.\", DeprecationWarning)\n"
     ]
    },
    {
     "name": "stdout",
     "output_type": "stream",
     "text": [
      "\n",
      "\n",
      "-----------------------------------\n",
      "\n",
      "Some inputted critics are not contained in the dataset. Below are the user inputted critics and closest matches found in the training set.\n",
      "\n",
      "Please check for spelling inconsistencies and update the 'review_input.csv' file accordingly:\n",
      "\n",
      "\n",
      "              User Input      Closest Match\n",
      "0      Allison Shoemaker     Alison Gillmor\n",
      "1              Uri Klein         Eric Melin\n",
      "2            Mark Hughes       David Hughes\n",
      "3         Dave Schilling       Dan Schindel\n",
      "4          Molly Freeman       Molly Eichel\n",
      "5            Joshua Yehl          Josh Bell\n",
      "6       Chris Hunneysett  Chris Hewitt (UK)\n",
      "7       Anthony O'Connor    Austin O'Connor\n",
      "8              Angie Han       Angie Errigo\n",
      "9          Andrew Barker      Andrew Pulver\n",
      "10        Garth Franklin      Frank Wilkins\n",
      "11          Mark Daniell         Rob Daniel\n",
      "12           Tom Gliatto        Tom Glasson\n",
      "13               Ben Sin        Brent Simon\n",
      "14      Abigail Chandler       Al Alexander\n",
      "15         John Hazelton        John Hanlon\n",
      "16              Don Kaye     Dominick Mayer\n",
      "17          Scott Menzel    Scott Mendelson\n",
      "18          Alicia Lutes        Anita Gates\n",
      "19      Alex Abad-Santos    Alex Leadbeater\n",
      "20          Kelly Lawler      Daniel Walber\n",
      "21  Conner Schwerdtfeger      Norm Schrager\n",
      "\n",
      "\n",
      "To proceed with fitting the model, press Enter to continue...\n",
      "\n",
      "---------------------------------------------\n",
      "MODEL RUNS HAVE FINISHED\n",
      "\n",
      "Consult results/Prediction_Results.txt for results of model\n",
      "---------------------------------------------\n"
     ]
    }
   ],
   "source": [
    "################ RUN THE MODEL #######################\n",
    "\n",
    "#DO NOT NEED TO MODIFY ANYTHING HERE, JUST RUN CELL\n",
    "os.system(\"rm ./results/Prediction_Results.txt\")\n",
    "ipython_run_model(MAX_CRITIC, MIN_THRES)"
   ]
  },
  {
   "cell_type": "markdown",
   "metadata": {},
   "source": [
    "## Step 4: Summarize Visualize Results\n",
    "\n",
    "Plots are summary text are saved in the directory 'results.' Run the following cells to visualize the output.\n",
    "\n",
    "**CinemaScore above baseline**\n",
    "\n",
    "Only models who beat the genre+release month baseline model are summarized\n",
    "\n",
    "**CinemaScore all models**\n",
    "\n",
    "All fitted models are summarized."
   ]
  },
  {
   "cell_type": "code",
   "execution_count": 7,
   "metadata": {
    "collapsed": false
   },
   "outputs": [
    {
     "data": {
      "image/png": "[encoded data removed]",
      "text/plain": [
       "<IPython.core.display.Image object>"
      ]
     },
     "execution_count": 7,
     "metadata": {},
     "output_type": "execute_result"
    }
   ],
   "source": [
    "Image(\"results/CinemaScore_above_baseline.png\")"
   ]
  },
  {
   "cell_type": "code",
   "execution_count": 8,
   "metadata": {
    "collapsed": false
   },
   "outputs": [
    {
     "data": {
      "image/png": "[encoded data removed]",
      "text/plain": [
       "<IPython.core.display.Image object>"
      ]
     },
     "execution_count": 8,
     "metadata": {},
     "output_type": "execute_result"
    }
   ],
   "source": [
    "Image(\"results/CinemaScore_all_models.png\")"
   ]
  },
  {
   "cell_type": "code",
   "execution_count": 9,
   "metadata": {
    "collapsed": false
   },
   "outputs": [
    {
     "name": "stdout",
     "output_type": "stream",
     "text": [
      "\n",
      "------- CINEMASCORE DYNAMIC PREDICTION RESULTS ------\n",
      "\n",
      "The critic(s) \n",
      "\n",
      "['Allison Shoemaker', 'Uri Klein', 'Mark Hughes', 'Dave Schilling', 'Molly Freeman', 'Joshua Yehl', 'Chris Hunneysett', \"Anthony O'Connor\", 'Angie Han', 'Andrew Barker', 'Garth Franklin', 'Mark Daniell', 'Tom Gliatto', 'Ben Sin', 'Abigail Chandler', 'John Hazelton', 'Don Kaye', 'Scott Menzel', 'Alicia Lutes', 'Alex Abad-Santos', 'Kelly Lawler', 'Conner Schwerdtfeger']\n",
      "\n",
      "are not contained in the training set and were excluded from the model\n",
      "\n",
      "The following critics were used to during fitting: \n",
      "\n",
      "[u'Susan Granger', u'Roger Moore', u'Julian Roman', u'Matthew Turner', u'Emma Simmonds', u'JimmyO', u'Matthew Pejkovic', u'Peter Travers', u'Michael Phillips', u'Chris Nashawaty']\n",
      "\n",
      "Size of training set: 1638\n",
      "\n",
      "Potential models: 228\n",
      "Time to fit: 4.43 seconds\n",
      "Baseline (Genre + Month of Release) Prediction: 2.8\n",
      "\n",
      "------------ Baseline - beating models --------------\n",
      "Models fit: 56\n",
      "Mean CinemaScore prediction: 1.86\n",
      "5th Percentile CinemaScore prediction 1.1\n",
      "95th Percentile CinemaScore prediction 2.87\n",
      "----------------- All models ------------------------\n",
      "Models fit: 137\n",
      "Mean CinemaScore prediction: 2.07\n",
      "5th Percentile CinemaScore prediction 1.21\n",
      "95th Percentile CinemaScore prediction 3.04\n",
      "-----------------------------------------------------\n",
      "\n",
      "Translate CinemaScores using the following table:\n",
      "\n",
      "0     A+\n",
      "1      A\n",
      "2     A-\n",
      "3     B+\n",
      "4      B\n",
      "5     B-\n",
      "6     C+\n",
      "7      C\n",
      "8     C-\n",
      "9     D+\n",
      "10     D\n",
      "11    D-\n",
      "12     F\n",
      "dtype: object\n",
      "\n"
     ]
    }
   ],
   "source": [
    "with open('results/Prediction_Results.txt', 'r') as txt:\n",
    "    print txt.read()"
   ]
  },
  {
   "cell_type": "code",
   "execution_count": null,
   "metadata": {
    "collapsed": true
   },
   "outputs": [],
   "source": []
  }
 ],
 "metadata": {
  "kernelspec": {
   "display_name": "Python 2",
   "language": "python",
   "name": "python2"
  },
  "language_info": {
   "codemirror_mode": {
    "name": "ipython",
    "version": 2
   },
   "file_extension": ".py",
   "mimetype": "text/x-python",
   "name": "python",
   "nbconvert_exporter": "python",
   "pygments_lexer": "ipython2",
   "version": "2.7.10"
  }
 },
 "nbformat": 4,
 "nbformat_minor": 0
}
