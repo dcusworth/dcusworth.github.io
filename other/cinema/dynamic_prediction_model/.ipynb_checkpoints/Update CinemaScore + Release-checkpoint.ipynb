{
 "cells": [
  {
   "cell_type": "code",
   "execution_count": 44,
   "metadata": {
    "collapsed": true
   },
   "outputs": [],
   "source": [
    "%matplotlib inline\n",
    "import matplotlib\n",
    "\n",
    "import numpy as np\n",
    "import pandas as pd\n",
    "import json\n",
    "import datetime\n",
    "from difflib import SequenceMatcher\n",
    "from class_func import *\n",
    "\n",
    "def similar(a, b):\n",
    "    return SequenceMatcher(None, a, b).ratio()"
   ]
  },
  {
   "cell_type": "code",
   "execution_count": 45,
   "metadata": {
    "collapsed": false
   },
   "outputs": [],
   "source": [
    "#Open CinemaScore dataframe\n",
    "cinemascore = pd.read_csv('./ancillary_data/cinemascore_data.csv', index_col=0)\n",
    "\n",
    "#Open release dates\n",
    "with open('./ancillary_data/better_release_dates.json', 'r') as fp:\n",
    "    release_dict = json.load(fp)\n",
    "\n",
    "#Open critic reviews    \n",
    "good_rot = rot_to_df('rotdat')\n",
    "rot_titles = list(set(good_rot.title))"
   ]
  },
  {
   "cell_type": "code",
   "execution_count": 48,
   "metadata": {
    "collapsed": false
   },
   "outputs": [
    {
     "name": "stdout",
     "output_type": "stream",
     "text": [
      "Enter title of new film (in quotes)'The Hunger Games'\n"
     ]
    }
   ],
   "source": [
    "#User inputs title\n",
    "new_title = input('Enter title of new film (in quotes)')"
   ]
  },
  {
   "cell_type": "code",
   "execution_count": 52,
   "metadata": {
    "collapsed": false
   },
   "outputs": [
    {
     "name": "stdout",
     "output_type": "stream",
     "text": [
      "Enter Primary Genre (in quotes)'Action'\n",
      "Enter CinemaScore A+ to F (in quotes)'A'\n",
      "Enter release date %b %d, %Y (in quotes) - e.g. \"Jan 15, 2011\"'Mar 23, 2012'\n",
      "New CinemaScore & release date updated succesfully\n"
     ]
    }
   ],
   "source": [
    "if new_title in cinemascore.title.tolist():\n",
    "    print 'This CinemaScore has already been entered, exiting'\n",
    "elif new_title in rot_titles:\n",
    "    \n",
    "    #Get user updates\n",
    "    \n",
    "    #Primary Genre\n",
    "    good_primary_genres = ['Sci-Fi', 'Anthology', 'Sports', 'Crime', \\\n",
    "                           'Romance', 'Supernatural', 'Comedy', 'War', \\\n",
    "                           'Teen', 'Biopic', 'Horror', 'Sequel', 'Western', \\\n",
    "                           'Thriller', 'Adventure', 'Mystery', 'Foreign', 'Drama', \\\n",
    "                           'Historical', 'Remake', 'Action', 'Animated', 'Documentary', \\\n",
    "                           'Musical', 'Spy', 'Family', 'Romantic Comedy', 'Period', 'Fantasy', \\\n",
    "                           'Adaptation', 'Children']\n",
    "    \n",
    "    prim_genre = input('Enter Primary Genre (in quotes)')\n",
    "    \n",
    "    if prim_genre not in good_primary_genres:\n",
    "        print 'Incorrect genre supplied - must be one of the following:'\n",
    "        print ''\n",
    "        print good_primary_genres\n",
    "        print ''\n",
    "        isbad = True\n",
    "        while isbad:\n",
    "            prim_genre = input('Enter Primary Genre (in quotes)')\n",
    "            \n",
    "            if prim_genre not in good_primary_genres:\n",
    "                print 'Still incorrect genre, try again'\n",
    "            else:\n",
    "                isbad = False\n",
    "                print 'Acceptable genre supplied'\n",
    "     \n",
    "    #CinemaScores\n",
    "    good_cscores = [\"A+\",\"A\",\"A-\",\"B+\",\"B\",\"B-\",\"C+\",\"C\",\"C-\",\"D+\",\"D\",\"D-\",\"F\"]\n",
    "    cinscore = input('Enter CinemaScore A+ to F (in quotes)')\n",
    "    \n",
    "    if cinscore not in good_cscores:\n",
    "        print 'Incorrect CinemaScore supplied - by be one of the following:'\n",
    "        print good_cscores\n",
    "        isbad = True\n",
    "        while isbad:\n",
    "            cinscore = input('Enter CinemaScore A+ to F (in quotes)')\n",
    "            if cinscore not in good_cscores:\n",
    "                print 'Still incorrect CinemaScore, try again'\n",
    "            else:\n",
    "                isbad = False\n",
    "                print 'Acceptable CinemaScore entered'\n",
    "    \n",
    "    #Release date\n",
    "    reldate = input('Enter release date %b %d, %Y (in quotes) - e.g. \"Jan 15, 2011\"')\n",
    "    isbad = True\n",
    "    while isbad:\n",
    "        try:\n",
    "            idate = datetime.datetime.strptime(reldate, '%b %d, %Y')\n",
    "            isbad = False\n",
    "        except:\n",
    "            print 'Incorrect date specification, try again'\n",
    "            reldate = input('Enter release date %b %d, %Y (in quotes) - e.g. \"Jan 15, 2011\"')\n",
    "            \n",
    "    \n",
    "    #Add inputs to existing datasets\n",
    "    new_dict = {}\n",
    "    new_dict[new_title] = reldate\n",
    "    release_dict.update(new_dict)\n",
    "    \n",
    "    new_cs = dict(zip(cinemascore.columns,\\\n",
    "                      [new_title, prim_genre, prim_genre, cinscore, None]))\n",
    "    new_cinemascore = cinemascore.append(new_cs, ignore_index=True)\n",
    "    \n",
    "    #Save to disk\n",
    "    new_cinemascore.to_csv('./ancillary_data/cinemascore_data.csv')\n",
    "    \n",
    "    with open('./ancillary_data/better_release_dates.json', 'w') as fp:\n",
    "        json.dump(release_dict, fp)\n",
    "        \n",
    "    print 'New CinemaScore & release date updated succesfully'\n",
    "    \n",
    "    \n",
    "else:\n",
    "    print 'Film not found in Rotten Tomatoes dataset'\n",
    "    sim_met = [similar(q, new_title) for q in rot_titles]\n",
    "    ipdf = pd.DataFrame(zip(sim_met, rot_titles), columns=['sim','title'])\n",
    "    ipdf_sort = ipdf.sort('sim', ascending=False)\n",
    "    print ''\n",
    "    print 'Closest 5 matches:'\n",
    "    print ipdf_sort.title.tolist()[0:5]\n",
    "    print ''\n",
    "    print 'Try again with one of these titles, or rescrape Rotten Tomatoes reviews'\n",
    "    print 'Exiting...'"
   ]
  },
  {
   "cell_type": "code",
   "execution_count": null,
   "metadata": {
    "collapsed": true
   },
   "outputs": [],
   "source": []
  }
 ],
 "metadata": {
  "kernelspec": {
   "display_name": "Python 2",
   "language": "python",
   "name": "python2"
  },
  "language_info": {
   "codemirror_mode": {
    "name": "ipython",
    "version": 2
   },
   "file_extension": ".py",
   "mimetype": "text/x-python",
   "name": "python",
   "nbconvert_exporter": "python",
   "pygments_lexer": "ipython2",
   "version": "2.7.10"
  }
 },
 "nbformat": 4,
 "nbformat_minor": 0
}
